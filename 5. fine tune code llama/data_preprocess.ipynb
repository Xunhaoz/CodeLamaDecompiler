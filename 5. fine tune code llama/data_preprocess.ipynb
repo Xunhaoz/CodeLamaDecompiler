{
 "cells": [
  {
   "metadata": {
    "ExecuteTime": {
     "end_time": "2024-08-11T02:57:14.166683Z",
     "start_time": "2024-08-11T02:57:13.708335Z"
    }
   },
   "cell_type": "code",
   "source": [
    "import re\n",
    "import numpy as np\n",
    "import pandas as pd\n",
    "from tqdm import tqdm\n",
    "from sqlalchemy import create_engine\n",
    "from extract_functions import extract_functions_from_file\n",
    "import os\n",
    "from openai import OpenAI\n",
    "from concurrent.futures import ThreadPoolExecutor, as_completed\n",
    "import warnings\n",
    "import dotenv\n",
    "\n",
    "dotenv.load_dotenv()\n",
    "\n",
    "warnings.filterwarnings('ignore')"
   ],
   "id": "116b0c73514a67d5",
   "outputs": [],
   "execution_count": 1
  },
  {
   "metadata": {
    "ExecuteTime": {
     "end_time": "2024-08-11T02:57:14.502446Z",
     "start_time": "2024-08-11T02:57:14.490982Z"
    }
   },
   "cell_type": "code",
   "source": "engine = create_engine(f'mysql+pymysql://{os.getenv(\"USER_NAME\")}:{os.getenv(\"USER_PASSWORD\")}@{os.getenv(\"IP\")}:{os.getenv(\"PORT\")}/AIS')",
   "id": "initial_id",
   "outputs": [],
   "execution_count": 2
  },
  {
   "metadata": {
    "ExecuteTime": {
     "end_time": "2024-08-11T02:57:15.368395Z",
     "start_time": "2024-08-11T02:57:15.364391Z"
    }
   },
   "cell_type": "code",
   "source": [
    "def extract_minor_dataset(engine, ori, dec):\n",
    "    ori_code = pd.read_sql(f\"SELECT * FROM {ori}\", engine)\n",
    "    dec_code = pd.read_sql(f\"SELECT * FROM {dec}\", engine)\n",
    "    ori_code.set_index('id', inplace=True)\n",
    "    dec_code.set_index('id', inplace=True)\n",
    "\n",
    "    c_codes = []\n",
    "\n",
    "    for filename, c_code in tqdm(zip(ori_code['filename'], ori_code['c_code']), total=len(ori_code)):\n",
    "        functions = extract_functions_from_file(c_code)\n",
    "        functions['filename'] = filename\n",
    "        c_codes.append(functions)\n",
    "\n",
    "    c_codes = pd.concat(c_codes)\n",
    "\n",
    "    c_codes.set_index(['filename', 'function_name'], inplace=True)\n",
    "    dec_code.set_index(['filename', 'function_name'], inplace=True)\n",
    "    dataset = pd.merge(c_codes, dec_code, left_index=True, right_index=True, how='inner')\n",
    "\n",
    "    dataset = dataset.reset_index()\n",
    "    dataset['version'] = ori\n",
    "    dataset.set_index(['version', 'filename', 'function_name'], inplace=True)\n",
    "\n",
    "    dataset = dataset.map(lambda x: np.where(x != '', x, None)).dropna()\n",
    "    dataset = dataset[~dataset.index.duplicated()]\n",
    "    dataset = dataset.drop_duplicates(subset=['asm_code'])\n",
    "    dataset = dataset.drop_duplicates(subset=['pseudo_code'])\n",
    "    return dataset"
   ],
   "id": "6b851a107a7b5996",
   "outputs": [],
   "execution_count": 3
  },
  {
   "metadata": {
    "ExecuteTime": {
     "end_time": "2024-08-11T03:01:32.659667Z",
     "start_time": "2024-08-11T02:57:16.283898Z"
    }
   },
   "cell_type": "code",
   "source": [
    "linux_6_0 = extract_minor_dataset(engine, 'linux_6_0', 'linux_6_0_decompile')\n",
    "linux_6_0 = linux_6_0.map(lambda x: np.where(x != '', x, None)).dropna()"
   ],
   "id": "d95c5a77cbe3cb7f",
   "outputs": [
    {
     "name": "stderr",
     "output_type": "stream",
     "text": [
      "100%|██████████| 20659/20659 [03:43<00:00, 92.29it/s] \n"
     ]
    }
   ],
   "execution_count": 4
  },
  {
   "metadata": {
    "ExecuteTime": {
     "end_time": "2024-08-11T03:06:40.315097Z",
     "start_time": "2024-08-11T03:06:40.312637Z"
    }
   },
   "cell_type": "code",
   "source": "linux_6_0.columns",
   "id": "fe1394d3c18e8a15",
   "outputs": [
    {
     "data": {
      "text/plain": [
       "Index(['function_content', 'pseudo_code', 'asm_code'], dtype='object')"
      ]
     },
     "execution_count": 12,
     "metadata": {},
     "output_type": "execute_result"
    }
   ],
   "execution_count": 12
  },
  {
   "metadata": {
    "ExecuteTime": {
     "end_time": "2024-08-11T03:06:00.547733Z",
     "start_time": "2024-08-11T03:06:00.545901Z"
    }
   },
   "cell_type": "code",
   "source": "from datasets import load_dataset, Dataset",
   "id": "197f81b1bd91d375",
   "outputs": [],
   "execution_count": 9
  },
  {
   "metadata": {
    "ExecuteTime": {
     "end_time": "2024-08-11T03:06:03.347119Z",
     "start_time": "2024-08-11T03:06:00.840545Z"
    }
   },
   "cell_type": "code",
   "source": [
    "dataset = load_dataset(\"b-mc2/sql-create-context\", split=\"train\")\n",
    "dataset"
   ],
   "id": "f5bdf2d1010097",
   "outputs": [
    {
     "data": {
      "text/plain": [
       "Dataset({\n",
       "    features: ['answer', 'question', 'context'],\n",
       "    num_rows: 78577\n",
       "})"
      ]
     },
     "execution_count": 10,
     "metadata": {},
     "output_type": "execute_result"
    }
   ],
   "execution_count": 10
  },
  {
   "metadata": {
    "ExecuteTime": {
     "end_time": "2024-08-11T03:06:59.768061Z",
     "start_time": "2024-08-11T03:06:54.962826Z"
    }
   },
   "cell_type": "code",
   "source": [
    "Dataset.from_dict({\n",
    "    'function_content': linux_6_0['function_content'],\n",
    "    'pseudo_code': linux_6_0['pseudo_code'],\n",
    "    'asm_code': linux_6_0['asm_code']\n",
    "})"
   ],
   "id": "11055df49cd36e9a",
   "outputs": [
    {
     "data": {
      "text/plain": [
       "Dataset({\n",
       "    features: ['function_content', 'pseudo_code', 'asm_code'],\n",
       "    num_rows: 207242\n",
       "})"
      ]
     },
     "execution_count": 13,
     "metadata": {},
     "output_type": "execute_result"
    }
   ],
   "execution_count": 13
  },
  {
   "metadata": {},
   "cell_type": "markdown",
   "source": "# OpenAI Chat API",
   "id": "3f65a8ad455c617f"
  },
  {
   "metadata": {
    "ExecuteTime": {
     "end_time": "2024-07-30T10:47:11.652890Z",
     "start_time": "2024-07-30T10:47:11.580100Z"
    }
   },
   "cell_type": "code",
   "source": [
    "def extract_code_blocks(text):\n",
    "    pattern = r'```((?:.|\\n)*?)```'\n",
    "    matches = re.findall(pattern, text, re.DOTALL)\n",
    "    matches = [match.strip() for match in matches]\n",
    "    return matches[0] if matches else ''"
   ],
   "id": "20d9df3713f6956e",
   "outputs": [],
   "execution_count": 5
  },
  {
   "metadata": {
    "ExecuteTime": {
     "end_time": "2024-07-30T12:26:36.953337Z",
     "start_time": "2024-07-30T12:26:36.949693Z"
    }
   },
   "cell_type": "code",
   "source": [
    "system_prompt_end2end = \"\"\"\n",
    "You are an expert system programmer with deep knowledge of the Linux kernel, assembly language, and decompilation techniques. Your task is to analyze assembly code of a single function compiled from the Linux kernel and reconstruct the original C function as accurately as possible. The input will be assembly code for one function only, without headers or other definitions. Follow these guidelines:\n",
    "\n",
    "1. Analyze the given assembly code carefully, focusing on the structure and logic of this single function.\n",
    "\n",
    "2. Recognize common compiler optimizations and how they might have transformed the original C code of this function.\n",
    "\n",
    "3. Reconstruct the high-level control flow, including loops, conditionals, and any function calls made from this function.\n",
    "\n",
    "4. Infer local data structures and their usage from memory access patterns in the assembly.\n",
    "\n",
    "5. Pay attention to calling conventions and parameter passing, especially considering this is a kernel function.\n",
    "\n",
    "6. Consider the target architecture (x86, ARM, etc.) and how it might influence the assembly output and the original C code of this function.\n",
    "\n",
    "7. Maintain the coding style typical of the Linux kernel in your reconstructed C function.\n",
    "\n",
    "8. If you encounter inline assembly within this function, reconstruct it as such in the C code.\n",
    "\n",
    "9. Be aware of and recreate kernel-specific attributes and decorators that might apply to this function (e.g., __init, __exit, __user).\n",
    "\n",
    "10. Provide brief, inline comments to explain complex parts or your reasoning for non-obvious decompilation decisions within the function.\n",
    "\n",
    "11. If exact reconstruction is not possible for any part, provide the closest approximation.\n",
    "\n",
    "12. Infer the function's return type and parameters based on the assembly code.\n",
    "\n",
    "13. Do not include any #include statements or type definitions outside the function.\n",
    "\n",
    "After completing the analysis and reconstruction, present the reconstructed C function as a single, continuous block of text. The output should be a valid C function that could theoretically be part of the Linux kernel.\n",
    "\n",
    "Given an assembly code snippet for a single function, analyze it thoroughly and provide your best reconstruction of the original C function as it might appear in the Linux kernel source code.\n",
    "\"\"\"\n",
    "\n",
    "system_prompt_refine = \"\"\"\n",
    "You are an expert system programmer with deep knowledge of the Linux kernel, C programming, and decompilation techniques. Your task is to analyze pseudocode generated by IDA PRO from a single function compiled from the Linux kernel and reconstruct the original C function as accurately as possible. The input will be IDA PRO pseudocode for one function only, without headers or other definitions. Follow these guidelines:\n",
    "\n",
    "1. Analyze the given pseudocode carefully, focusing on the structure and logic of this single function.\n",
    "\n",
    "2. Recognize common decompiler patterns and how they might differ from idiomatic C code in the Linux kernel.\n",
    "\n",
    "3. Reconstruct the high-level control flow, including loops, conditionals, and any function calls made from this function.\n",
    "\n",
    "4. Infer local data structures and their usage from the pseudocode. Be aware that IDA PRO might use its own naming conventions for inferred structures.\n",
    "\n",
    "5. Pay attention to function parameters and return types, especially considering this is a kernel function. IDA PRO might not always accurately represent complex types.\n",
    "\n",
    "6. Consider how the target architecture (x86, ARM, etc.) might have influenced the original code and the resulting pseudocode.\n",
    "\n",
    "7. Reconstruct the function using coding style typical of the Linux kernel, which might differ from the style of the pseudocode.\n",
    "\n",
    "8. If you encounter any patterns that suggest inline assembly in the original code, reconstruct it as such in the C code.\n",
    "\n",
    "9. Be aware of and recreate kernel-specific attributes and decorators that might apply to this function (e.g., __init, __exit, __user), which might not be present in the pseudocode.\n",
    "\n",
    "10. Provide brief, inline comments to explain complex parts or your reasoning for non-obvious reconstruction decisions within the function.\n",
    "\n",
    "11. If exact reconstruction is not possible for any part, provide the closest approximation and explain your reasoning.\n",
    "\n",
    "12. Infer the function's correct return type and parameters based on the pseudocode and your knowledge of Linux kernel conventions.\n",
    "\n",
    "13. Do not include any #include statements or type definitions outside the function.\n",
    "\n",
    "14. Be cautious of potential decompiler errors or misinterpretations in the pseudocode, and use your judgment to correct these in your reconstruction.\n",
    "\n",
    "15. Pay special attention to pointer arithmetic and type casting, which might be represented differently in the pseudocode compared to idiomatic C code.\n",
    "\n",
    "16. Look for patterns that suggest the use of Linux kernel-specific macros or inline functions, and reconstruct these appropriately.\n",
    "\n",
    "After completing the analysis and reconstruction, present the reconstructed C function as a single, continuous block of text. The output should be a valid C function that could theoretically be part of the Linux kernel source code.\n",
    "\n",
    "Given an IDA PRO pseudocode snippet for a single function, analyze it thoroughly and provide your best reconstruction of the original C function as it might appear in the Linux kernel source code.\n",
    "\"\"\""
   ],
   "id": "b6074f1e48608b56",
   "outputs": [],
   "execution_count": 32
  },
  {
   "metadata": {
    "ExecuteTime": {
     "end_time": "2024-07-30T12:27:02.533825Z",
     "start_time": "2024-07-30T12:27:02.531004Z"
    }
   },
   "cell_type": "code",
   "source": [
    "def chat_with_gpt(system_prompt, user_input):\n",
    "    client = OpenAI(\n",
    "        api_key=os.environ.get(\"OPENAI_API_KEY\"),\n",
    "    )\n",
    "    chat_completion = client.chat.completions.create(\n",
    "        messages=[\n",
    "            {\"role\": \"system\", \"content\": system_prompt},\n",
    "            {\"role\": \"user\", \"content\": user_input},\n",
    "        ],\n",
    "        model=\"gpt-4o-mini\",\n",
    "    )\n",
    "    return extract_code_blocks(chat_completion.choices[0].message.content).replace('c\\n', '')\n",
    "\n",
    "\n",
    "def process_row(args):\n",
    "    index, system_prompt, row = args\n",
    "    return index, chat_with_gpt(system_prompt, row['pseudo_code'])"
   ],
   "id": "d55f3d8db158d465",
   "outputs": [],
   "execution_count": 33
  },
  {
   "metadata": {
    "ExecuteTime": {
     "end_time": "2024-07-30T12:27:03.779658Z",
     "start_time": "2024-07-30T12:27:03.775628Z"
    }
   },
   "cell_type": "code",
   "source": [
    "def parallel_process_openai(df: pd.DataFrame) -> list:\n",
    "    df['end2end'] = ''\n",
    "\n",
    "    with ThreadPoolExecutor() as executor:\n",
    "        future_to_index = {\n",
    "            executor.submit(process_row, (_, system_prompt_refine, row)) for _, row in df.iterrows()\n",
    "        }\n",
    "\n",
    "        for future in tqdm(as_completed(future_to_index), total=len(future_to_index), desc=\"Processing\"):\n",
    "            index, result = future.result()\n",
    "            df.loc[index, 'end2end'] = result\n",
    "\n",
    "    return df"
   ],
   "id": "25dea1b148465c8d",
   "outputs": [],
   "execution_count": 34
  },
  {
   "metadata": {
    "ExecuteTime": {
     "end_time": "2024-07-30T14:06:15.041213Z",
     "start_time": "2024-07-30T12:27:17.962029Z"
    }
   },
   "cell_type": "code",
   "source": "result = parallel_process_openai(linux_6_0[:10000])",
   "id": "ee4f7e27edd960d8",
   "outputs": [
    {
     "name": "stderr",
     "output_type": "stream",
     "text": [
      "Processing: 100%|██████████| 10000/10000 [1:38:56<00:00,  1.68it/s] \n"
     ]
    }
   ],
   "execution_count": 35
  },
  {
   "metadata": {
    "ExecuteTime": {
     "end_time": "2024-07-30T14:06:15.808986Z",
     "start_time": "2024-07-30T14:06:15.043493Z"
    }
   },
   "cell_type": "code",
   "source": "result.to_csv('openai_refine.csv')",
   "id": "3771cbc17753d5a9",
   "outputs": [],
   "execution_count": 36
  },
  {
   "metadata": {
    "ExecuteTime": {
     "end_time": "2024-07-30T10:09:00.413965Z",
     "start_time": "2024-07-30T10:08:58.476076Z"
    }
   },
   "cell_type": "code",
   "source": "",
   "id": "d920f812e9a32eaf",
   "outputs": [],
   "execution_count": 8
  },
  {
   "metadata": {},
   "cell_type": "code",
   "outputs": [],
   "execution_count": null,
   "source": "",
   "id": "bba8d292fb404fdb"
  }
 ],
 "metadata": {
  "kernelspec": {
   "display_name": "Python 3",
   "language": "python",
   "name": "python3"
  },
  "language_info": {
   "codemirror_mode": {
    "name": "ipython",
    "version": 2
   },
   "file_extension": ".py",
   "mimetype": "text/x-python",
   "name": "python",
   "nbconvert_exporter": "python",
   "pygments_lexer": "ipython2",
   "version": "2.7.6"
  }
 },
 "nbformat": 4,
 "nbformat_minor": 5
}
